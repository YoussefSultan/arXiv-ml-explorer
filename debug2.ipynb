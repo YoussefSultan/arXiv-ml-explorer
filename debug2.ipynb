{
 "cells": [
  {
   "cell_type": "code",
   "execution_count": 4,
   "metadata": {},
   "outputs": [],
   "source": [
    "import random\n",
    "import requests\n",
    "from sklearn.decomposition import NMF\n",
    "from sklearn.feature_extraction.text import ENGLISH_STOP_WORDS, TfidfVectorizer\n",
    "import xml.etree.ElementTree as ET\n",
    "import dateutil.parser\n",
    "import pandas as pd\n",
    "import plotly.express as px\n",
    "import numpy as np\n",
    "\n",
    "class ArxivAPI:\n",
    "    \"\"\"\n",
    "    The ArxivAPI class is responsible for fetching papers from the ArXiv API based on a specific URL.\n",
    "    \n",
    "    Attributes:\n",
    "        url (str): The URL to fetch papers from the ArXiv API.\n",
    "        papers (list): A list to store the fetched papers, each represented as a dictionary.\n",
    "    \n",
    "    Methods:\n",
    "        fetch_papers(): Makes a request to the ArXiv API, parses the response to extract required details \n",
    "                        from each paper, and stores the details in the 'papers' list. Returns a DataFrame\n",
    "                        created from the 'papers' list.\n",
    "    \"\"\"\n",
    "    def __init__(self, url):\n",
    "        self.url = url\n",
    "        self.papers = []\n",
    "        \n",
    "    def fetch_papers(self):\n",
    "        response = requests.get(self.url)\n",
    "        root = ET.fromstring(response.content)\n",
    "        namespaces = {'atom': 'http://www.w3.org/2005/Atom', 'arxiv': 'http://arxiv.org/schemas/atom'}\n",
    "\n",
    "        for entry in root.findall('atom:entry', namespaces):\n",
    "            paper = {}\n",
    "            paper['title'] = entry.find('atom:title', namespaces).text\n",
    "            paper['summary'] = entry.find('atom:summary', namespaces).text\n",
    "            paper['date'] = dateutil.parser.parse(entry.find('atom:published', namespaces).text)\n",
    "            self.papers.append(paper)\n",
    "\n",
    "        return pd.DataFrame(self.papers)\n",
    "\n",
    "\n",
    "class ProcessingData:\n",
    "    \"\"\"\n",
    "    The ProcessingData class is used to process a DataFrame of papers, including transforming paper \n",
    "    summaries into tf-idf vectors, fitting an NMF model to extract topics, and mapping each paper to its topic.\n",
    "\n",
    "    Attributes:\n",
    "        df (DataFrame): The DataFrame of papers to be processed.\n",
    "        n_topics (int): The number of topics to extract from the NMF model.\n",
    "        n_top_words (int): The number of top words to consider in each topic.\n",
    "        n_connected_words (int): The number of words to include in the summary of each topic.\n",
    "        stop_words (list): A list of words to exclude during the tf-idf transformation.\n",
    "\n",
    "    Methods:\n",
    "        process(): Performs the tf-idf transformation, fits the NMF model, assigns each paper to its topic, \n",
    "                   and creates a summary for each topic. Returns a DataFrame with additional columns for the topic\n",
    "                   and the topic summary. The final grouping of words of the topic is based on a random start index\n",
    "                   position of 5 connected words from the n_top_words.\n",
    "    \"\"\"\n",
    "    def __init__(self, df, n_topics=10, n_top_words=10, n_connected_words=5):\n",
    "        self.df = df\n",
    "        self.n_topics = n_topics\n",
    "        self.n_top_words = n_top_words\n",
    "        self.n_connected_words = n_connected_words\n",
    "        self.stop_words = list(ENGLISH_STOP_WORDS)\n",
    "        self.stop_words.extend(['data','tasks','task','models','node','machine', 'datasets'])\n",
    "\n",
    "    def process(self):\n",
    "        vectorizer = TfidfVectorizer(max_df=0.95, min_df=2, stop_words=self.stop_words)\n",
    "        tfidf = vectorizer.fit_transform(self.df['summary'])\n",
    "\n",
    "        nmf = NMF(n_components=self.n_topics, random_state=1, max_iter=2000).fit(tfidf)\n",
    "        self.df['topic'] = np.argmax(nmf.transform(tfidf), axis=1) + 1\n",
    "        self.df['year'] = self.df['date'].dt.year\n",
    "\n",
    "        _dict = {}\n",
    "        for topic_idx, topic in enumerate(nmf.components_):\n",
    "            top_word_indices = topic.argsort()[::-1][:self.n_top_words]\n",
    "            top_words = [vectorizer.get_feature_names_out()[i] for i in top_word_indices]\n",
    "            start_index = random.randint(0, len(top_words) - self.n_connected_words)\n",
    "            connected_words = top_words[start_index : start_index + self.n_connected_words]\n",
    "            _dict[f\"{topic_idx + 1}\"] = ' '.join(connected_words)\n",
    "\n",
    "        topics_df = pd.DataFrame(_dict, index=[0]).T.reset_index()\n",
    "        topics_df.columns = ['topic','topics']\n",
    "        topics_df.topic = topics_df.topic.astype('int')\n",
    "\n",
    "        return self.df.merge(topics_df, on='topic', how='left')\n",
    "\n",
    "\n",
    "class Visualize:\n",
    "    \"\"\"\n",
    "    The Visualize class is used to create a visualization of the distribution of topics over time.\n",
    "\n",
    "    Attributes:\n",
    "        df (DataFrame): The DataFrame of papers, each with an assigned topic and a topic summary.\n",
    "\n",
    "    Methods:\n",
    "        plot(): Creates and displays a stacked bar chart showing the distribution of topics over time.\n",
    "    \"\"\"\n",
    "    def __init__(self, df):\n",
    "        self.df = df\n",
    "\n",
    "    def plot(self):\n",
    "        self.df['date'] = pd.to_datetime(self.df['date'])\n",
    "        df_grouped = self.df.groupby([self.df['date'].dt.date, 'topics']).size().reset_index(name='count')\n",
    "        df_wide = df_grouped.pivot(index='date', columns='topics', values='count').reset_index().fillna(0)\n",
    "\n",
    "        fig = px.bar(df_wide, x='date', y=df_wide.columns[1:],\n",
    "                     labels={'value':'Frequency', 'date':'Date', 'variable':'Topic'},\n",
    "                     title='Topic Distribution Over Time for the Last 10,000 Machine Learning Papers on ArXiv')\n",
    "        fig.update_layout(barmode='stack')\n",
    "        fig.show()\n"
   ]
  },
  {
   "cell_type": "code",
   "execution_count": 5,
   "metadata": {},
   "outputs": [
    {
     "data": {
      "application/vnd.plotly.v1+json": {
       "config": {
        "plotlyServerURL": "https://plot.ly"
       },
       "data": [
        {
         "alignmentgroup": "True",
         "hovertemplate": "Topic=algorithm problem optimization problems gradient<br>Date=%{x}<br>Frequency=%{y}<extra></extra>",
         "legendgroup": "algorithm problem optimization problems gradient",
         "marker": {
          "color": "#636efa",
          "pattern": {
           "shape": ""
          }
         },
         "name": "algorithm problem optimization problems gradient",
         "offsetgroup": "algorithm problem optimization problems gradient",
         "orientation": "v",
         "showlegend": true,
         "textposition": "auto",
         "type": "bar",
         "x": [
          "2023-07-08",
          "2023-07-09",
          "2023-07-10",
          "2023-07-11",
          "2023-07-12",
          "2023-07-13",
          "2023-07-14",
          "2023-07-15",
          "2023-07-16",
          "2023-07-17",
          "2023-07-18",
          "2023-07-19",
          "2023-07-20"
         ],
         "xaxis": "x",
         "y": [
          0,
          6,
          15,
          14,
          14,
          17,
          22,
          10,
          3,
          16,
          14,
          11,
          11
         ],
         "yaxis": "y"
        },
        {
         "alignmentgroup": "True",
         "hovertemplate": "Topic=attacks attack backdoor model samples<br>Date=%{x}<br>Frequency=%{y}<extra></extra>",
         "legendgroup": "attacks attack backdoor model samples",
         "marker": {
          "color": "#EF553B",
          "pattern": {
           "shape": ""
          }
         },
         "name": "attacks attack backdoor model samples",
         "offsetgroup": "attacks attack backdoor model samples",
         "orientation": "v",
         "showlegend": true,
         "textposition": "auto",
         "type": "bar",
         "x": [
          "2023-07-08",
          "2023-07-09",
          "2023-07-10",
          "2023-07-11",
          "2023-07-12",
          "2023-07-13",
          "2023-07-14",
          "2023-07-15",
          "2023-07-16",
          "2023-07-17",
          "2023-07-18",
          "2023-07-19",
          "2023-07-20"
         ],
         "xaxis": "x",
         "y": [
          0,
          1,
          1,
          3,
          2,
          2,
          8,
          3,
          2,
          3,
          3,
          4,
          8
         ],
         "yaxis": "y"
        },
        {
         "alignmentgroup": "True",
         "hovertemplate": "Topic=deep memory architecture model constraints<br>Date=%{x}<br>Frequency=%{y}<extra></extra>",
         "legendgroup": "deep memory architecture model constraints",
         "marker": {
          "color": "#00cc96",
          "pattern": {
           "shape": ""
          }
         },
         "name": "deep memory architecture model constraints",
         "offsetgroup": "deep memory architecture model constraints",
         "orientation": "v",
         "showlegend": true,
         "textposition": "auto",
         "type": "bar",
         "x": [
          "2023-07-08",
          "2023-07-09",
          "2023-07-10",
          "2023-07-11",
          "2023-07-12",
          "2023-07-13",
          "2023-07-14",
          "2023-07-15",
          "2023-07-16",
          "2023-07-17",
          "2023-07-18",
          "2023-07-19",
          "2023-07-20"
         ],
         "xaxis": "x",
         "y": [
          2,
          6,
          9,
          9,
          8,
          7,
          13,
          6,
          9,
          13,
          22,
          12,
          13
         ],
         "yaxis": "y"
        },
        {
         "alignmentgroup": "True",
         "hovertemplate": "Topic=domain llms fine large training<br>Date=%{x}<br>Frequency=%{y}<extra></extra>",
         "legendgroup": "domain llms fine large training",
         "marker": {
          "color": "#ab63fa",
          "pattern": {
           "shape": ""
          }
         },
         "name": "domain llms fine large training",
         "offsetgroup": "domain llms fine large training",
         "orientation": "v",
         "showlegend": true,
         "textposition": "auto",
         "type": "bar",
         "x": [
          "2023-07-08",
          "2023-07-09",
          "2023-07-10",
          "2023-07-11",
          "2023-07-12",
          "2023-07-13",
          "2023-07-14",
          "2023-07-15",
          "2023-07-16",
          "2023-07-17",
          "2023-07-18",
          "2023-07-19",
          "2023-07-20"
         ],
         "xaxis": "x",
         "y": [
          1,
          3,
          3,
          8,
          10,
          5,
          10,
          3,
          4,
          11,
          8,
          10,
          14
         ],
         "yaxis": "y"
        },
        {
         "alignmentgroup": "True",
         "hovertemplate": "Topic=fairness variables discovery counterfactual distribution<br>Date=%{x}<br>Frequency=%{y}<extra></extra>",
         "legendgroup": "fairness variables discovery counterfactual distribution",
         "marker": {
          "color": "#FFA15A",
          "pattern": {
           "shape": ""
          }
         },
         "name": "fairness variables discovery counterfactual distribution",
         "offsetgroup": "fairness variables discovery counterfactual distribution",
         "orientation": "v",
         "showlegend": true,
         "textposition": "auto",
         "type": "bar",
         "x": [
          "2023-07-08",
          "2023-07-09",
          "2023-07-10",
          "2023-07-11",
          "2023-07-12",
          "2023-07-13",
          "2023-07-14",
          "2023-07-15",
          "2023-07-16",
          "2023-07-17",
          "2023-07-18",
          "2023-07-19",
          "2023-07-20"
         ],
         "xaxis": "x",
         "y": [
          0,
          3,
          2,
          5,
          2,
          2,
          1,
          0,
          2,
          10,
          2,
          3,
          0
         ],
         "yaxis": "y"
        },
        {
         "alignmentgroup": "True",
         "hovertemplate": "Topic=fl federated clients local privacy<br>Date=%{x}<br>Frequency=%{y}<extra></extra>",
         "legendgroup": "fl federated clients local privacy",
         "marker": {
          "color": "#19d3f3",
          "pattern": {
           "shape": ""
          }
         },
         "name": "fl federated clients local privacy",
         "offsetgroup": "fl federated clients local privacy",
         "orientation": "v",
         "showlegend": true,
         "textposition": "auto",
         "type": "bar",
         "x": [
          "2023-07-08",
          "2023-07-09",
          "2023-07-10",
          "2023-07-11",
          "2023-07-12",
          "2023-07-13",
          "2023-07-14",
          "2023-07-15",
          "2023-07-16",
          "2023-07-17",
          "2023-07-18",
          "2023-07-19",
          "2023-07-20"
         ],
         "xaxis": "x",
         "y": [
          0,
          2,
          4,
          2,
          3,
          3,
          5,
          1,
          1,
          4,
          5,
          5,
          8
         ],
         "yaxis": "y"
        },
        {
         "alignmentgroup": "True",
         "hovertemplate": "Topic=images text diffusion dataset classification<br>Date=%{x}<br>Frequency=%{y}<extra></extra>",
         "legendgroup": "images text diffusion dataset classification",
         "marker": {
          "color": "#FF6692",
          "pattern": {
           "shape": ""
          }
         },
         "name": "images text diffusion dataset classification",
         "offsetgroup": "images text diffusion dataset classification",
         "orientation": "v",
         "showlegend": true,
         "textposition": "auto",
         "type": "bar",
         "x": [
          "2023-07-08",
          "2023-07-09",
          "2023-07-10",
          "2023-07-11",
          "2023-07-12",
          "2023-07-13",
          "2023-07-14",
          "2023-07-15",
          "2023-07-16",
          "2023-07-17",
          "2023-07-18",
          "2023-07-19",
          "2023-07-20"
         ],
         "xaxis": "x",
         "y": [
          0,
          1,
          15,
          11,
          10,
          7,
          4,
          3,
          6,
          5,
          7,
          9,
          12
         ],
         "yaxis": "y"
        },
        {
         "alignmentgroup": "True",
         "hovertemplate": "Topic=nodes privacy networks attention information<br>Date=%{x}<br>Frequency=%{y}<extra></extra>",
         "legendgroup": "nodes privacy networks attention information",
         "marker": {
          "color": "#B6E880",
          "pattern": {
           "shape": ""
          }
         },
         "name": "nodes privacy networks attention information",
         "offsetgroup": "nodes privacy networks attention information",
         "orientation": "v",
         "showlegend": true,
         "textposition": "auto",
         "type": "bar",
         "x": [
          "2023-07-08",
          "2023-07-09",
          "2023-07-10",
          "2023-07-11",
          "2023-07-12",
          "2023-07-13",
          "2023-07-14",
          "2023-07-15",
          "2023-07-16",
          "2023-07-17",
          "2023-07-18",
          "2023-07-19",
          "2023-07-20"
         ],
         "xaxis": "x",
         "y": [
          0,
          3,
          10,
          5,
          4,
          6,
          3,
          3,
          4,
          5,
          4,
          5,
          0
         ],
         "yaxis": "y"
        },
        {
         "alignmentgroup": "True",
         "hovertemplate": "Topic=rl agent reinforcement reward agents<br>Date=%{x}<br>Frequency=%{y}<extra></extra>",
         "legendgroup": "rl agent reinforcement reward agents",
         "marker": {
          "color": "#FF97FF",
          "pattern": {
           "shape": ""
          }
         },
         "name": "rl agent reinforcement reward agents",
         "offsetgroup": "rl agent reinforcement reward agents",
         "orientation": "v",
         "showlegend": true,
         "textposition": "auto",
         "type": "bar",
         "x": [
          "2023-07-08",
          "2023-07-09",
          "2023-07-10",
          "2023-07-11",
          "2023-07-12",
          "2023-07-13",
          "2023-07-14",
          "2023-07-15",
          "2023-07-16",
          "2023-07-17",
          "2023-07-18",
          "2023-07-19",
          "2023-07-20"
         ],
         "xaxis": "x",
         "y": [
          1,
          1,
          9,
          8,
          11,
          14,
          3,
          4,
          4,
          8,
          11,
          6,
          6
         ],
         "yaxis": "y"
        },
        {
         "alignmentgroup": "True",
         "hovertemplate": "Topic=time series methods systems based<br>Date=%{x}<br>Frequency=%{y}<extra></extra>",
         "legendgroup": "time series methods systems based",
         "marker": {
          "color": "#FECB52",
          "pattern": {
           "shape": ""
          }
         },
         "name": "time series methods systems based",
         "offsetgroup": "time series methods systems based",
         "orientation": "v",
         "showlegend": true,
         "textposition": "auto",
         "type": "bar",
         "x": [
          "2023-07-08",
          "2023-07-09",
          "2023-07-10",
          "2023-07-11",
          "2023-07-12",
          "2023-07-13",
          "2023-07-14",
          "2023-07-15",
          "2023-07-16",
          "2023-07-17",
          "2023-07-18",
          "2023-07-19",
          "2023-07-20"
         ],
         "xaxis": "x",
         "y": [
          0,
          11,
          31,
          33,
          24,
          32,
          18,
          12,
          10,
          40,
          25,
          27,
          22
         ],
         "yaxis": "y"
        }
       ],
       "layout": {
        "barmode": "stack",
        "legend": {
         "title": {
          "text": "Topic"
         },
         "tracegroupgap": 0
        },
        "template": {
         "data": {
          "bar": [
           {
            "error_x": {
             "color": "#2a3f5f"
            },
            "error_y": {
             "color": "#2a3f5f"
            },
            "marker": {
             "line": {
              "color": "#E5ECF6",
              "width": 0.5
             },
             "pattern": {
              "fillmode": "overlay",
              "size": 10,
              "solidity": 0.2
             }
            },
            "type": "bar"
           }
          ],
          "barpolar": [
           {
            "marker": {
             "line": {
              "color": "#E5ECF6",
              "width": 0.5
             },
             "pattern": {
              "fillmode": "overlay",
              "size": 10,
              "solidity": 0.2
             }
            },
            "type": "barpolar"
           }
          ],
          "carpet": [
           {
            "aaxis": {
             "endlinecolor": "#2a3f5f",
             "gridcolor": "white",
             "linecolor": "white",
             "minorgridcolor": "white",
             "startlinecolor": "#2a3f5f"
            },
            "baxis": {
             "endlinecolor": "#2a3f5f",
             "gridcolor": "white",
             "linecolor": "white",
             "minorgridcolor": "white",
             "startlinecolor": "#2a3f5f"
            },
            "type": "carpet"
           }
          ],
          "choropleth": [
           {
            "colorbar": {
             "outlinewidth": 0,
             "ticks": ""
            },
            "type": "choropleth"
           }
          ],
          "contour": [
           {
            "colorbar": {
             "outlinewidth": 0,
             "ticks": ""
            },
            "colorscale": [
             [
              0,
              "#0d0887"
             ],
             [
              0.1111111111111111,
              "#46039f"
             ],
             [
              0.2222222222222222,
              "#7201a8"
             ],
             [
              0.3333333333333333,
              "#9c179e"
             ],
             [
              0.4444444444444444,
              "#bd3786"
             ],
             [
              0.5555555555555556,
              "#d8576b"
             ],
             [
              0.6666666666666666,
              "#ed7953"
             ],
             [
              0.7777777777777778,
              "#fb9f3a"
             ],
             [
              0.8888888888888888,
              "#fdca26"
             ],
             [
              1,
              "#f0f921"
             ]
            ],
            "type": "contour"
           }
          ],
          "contourcarpet": [
           {
            "colorbar": {
             "outlinewidth": 0,
             "ticks": ""
            },
            "type": "contourcarpet"
           }
          ],
          "heatmap": [
           {
            "colorbar": {
             "outlinewidth": 0,
             "ticks": ""
            },
            "colorscale": [
             [
              0,
              "#0d0887"
             ],
             [
              0.1111111111111111,
              "#46039f"
             ],
             [
              0.2222222222222222,
              "#7201a8"
             ],
             [
              0.3333333333333333,
              "#9c179e"
             ],
             [
              0.4444444444444444,
              "#bd3786"
             ],
             [
              0.5555555555555556,
              "#d8576b"
             ],
             [
              0.6666666666666666,
              "#ed7953"
             ],
             [
              0.7777777777777778,
              "#fb9f3a"
             ],
             [
              0.8888888888888888,
              "#fdca26"
             ],
             [
              1,
              "#f0f921"
             ]
            ],
            "type": "heatmap"
           }
          ],
          "heatmapgl": [
           {
            "colorbar": {
             "outlinewidth": 0,
             "ticks": ""
            },
            "colorscale": [
             [
              0,
              "#0d0887"
             ],
             [
              0.1111111111111111,
              "#46039f"
             ],
             [
              0.2222222222222222,
              "#7201a8"
             ],
             [
              0.3333333333333333,
              "#9c179e"
             ],
             [
              0.4444444444444444,
              "#bd3786"
             ],
             [
              0.5555555555555556,
              "#d8576b"
             ],
             [
              0.6666666666666666,
              "#ed7953"
             ],
             [
              0.7777777777777778,
              "#fb9f3a"
             ],
             [
              0.8888888888888888,
              "#fdca26"
             ],
             [
              1,
              "#f0f921"
             ]
            ],
            "type": "heatmapgl"
           }
          ],
          "histogram": [
           {
            "marker": {
             "pattern": {
              "fillmode": "overlay",
              "size": 10,
              "solidity": 0.2
             }
            },
            "type": "histogram"
           }
          ],
          "histogram2d": [
           {
            "colorbar": {
             "outlinewidth": 0,
             "ticks": ""
            },
            "colorscale": [
             [
              0,
              "#0d0887"
             ],
             [
              0.1111111111111111,
              "#46039f"
             ],
             [
              0.2222222222222222,
              "#7201a8"
             ],
             [
              0.3333333333333333,
              "#9c179e"
             ],
             [
              0.4444444444444444,
              "#bd3786"
             ],
             [
              0.5555555555555556,
              "#d8576b"
             ],
             [
              0.6666666666666666,
              "#ed7953"
             ],
             [
              0.7777777777777778,
              "#fb9f3a"
             ],
             [
              0.8888888888888888,
              "#fdca26"
             ],
             [
              1,
              "#f0f921"
             ]
            ],
            "type": "histogram2d"
           }
          ],
          "histogram2dcontour": [
           {
            "colorbar": {
             "outlinewidth": 0,
             "ticks": ""
            },
            "colorscale": [
             [
              0,
              "#0d0887"
             ],
             [
              0.1111111111111111,
              "#46039f"
             ],
             [
              0.2222222222222222,
              "#7201a8"
             ],
             [
              0.3333333333333333,
              "#9c179e"
             ],
             [
              0.4444444444444444,
              "#bd3786"
             ],
             [
              0.5555555555555556,
              "#d8576b"
             ],
             [
              0.6666666666666666,
              "#ed7953"
             ],
             [
              0.7777777777777778,
              "#fb9f3a"
             ],
             [
              0.8888888888888888,
              "#fdca26"
             ],
             [
              1,
              "#f0f921"
             ]
            ],
            "type": "histogram2dcontour"
           }
          ],
          "mesh3d": [
           {
            "colorbar": {
             "outlinewidth": 0,
             "ticks": ""
            },
            "type": "mesh3d"
           }
          ],
          "parcoords": [
           {
            "line": {
             "colorbar": {
              "outlinewidth": 0,
              "ticks": ""
             }
            },
            "type": "parcoords"
           }
          ],
          "pie": [
           {
            "automargin": true,
            "type": "pie"
           }
          ],
          "scatter": [
           {
            "fillpattern": {
             "fillmode": "overlay",
             "size": 10,
             "solidity": 0.2
            },
            "type": "scatter"
           }
          ],
          "scatter3d": [
           {
            "line": {
             "colorbar": {
              "outlinewidth": 0,
              "ticks": ""
             }
            },
            "marker": {
             "colorbar": {
              "outlinewidth": 0,
              "ticks": ""
             }
            },
            "type": "scatter3d"
           }
          ],
          "scattercarpet": [
           {
            "marker": {
             "colorbar": {
              "outlinewidth": 0,
              "ticks": ""
             }
            },
            "type": "scattercarpet"
           }
          ],
          "scattergeo": [
           {
            "marker": {
             "colorbar": {
              "outlinewidth": 0,
              "ticks": ""
             }
            },
            "type": "scattergeo"
           }
          ],
          "scattergl": [
           {
            "marker": {
             "colorbar": {
              "outlinewidth": 0,
              "ticks": ""
             }
            },
            "type": "scattergl"
           }
          ],
          "scattermapbox": [
           {
            "marker": {
             "colorbar": {
              "outlinewidth": 0,
              "ticks": ""
             }
            },
            "type": "scattermapbox"
           }
          ],
          "scatterpolar": [
           {
            "marker": {
             "colorbar": {
              "outlinewidth": 0,
              "ticks": ""
             }
            },
            "type": "scatterpolar"
           }
          ],
          "scatterpolargl": [
           {
            "marker": {
             "colorbar": {
              "outlinewidth": 0,
              "ticks": ""
             }
            },
            "type": "scatterpolargl"
           }
          ],
          "scatterternary": [
           {
            "marker": {
             "colorbar": {
              "outlinewidth": 0,
              "ticks": ""
             }
            },
            "type": "scatterternary"
           }
          ],
          "surface": [
           {
            "colorbar": {
             "outlinewidth": 0,
             "ticks": ""
            },
            "colorscale": [
             [
              0,
              "#0d0887"
             ],
             [
              0.1111111111111111,
              "#46039f"
             ],
             [
              0.2222222222222222,
              "#7201a8"
             ],
             [
              0.3333333333333333,
              "#9c179e"
             ],
             [
              0.4444444444444444,
              "#bd3786"
             ],
             [
              0.5555555555555556,
              "#d8576b"
             ],
             [
              0.6666666666666666,
              "#ed7953"
             ],
             [
              0.7777777777777778,
              "#fb9f3a"
             ],
             [
              0.8888888888888888,
              "#fdca26"
             ],
             [
              1,
              "#f0f921"
             ]
            ],
            "type": "surface"
           }
          ],
          "table": [
           {
            "cells": {
             "fill": {
              "color": "#EBF0F8"
             },
             "line": {
              "color": "white"
             }
            },
            "header": {
             "fill": {
              "color": "#C8D4E3"
             },
             "line": {
              "color": "white"
             }
            },
            "type": "table"
           }
          ]
         },
         "layout": {
          "annotationdefaults": {
           "arrowcolor": "#2a3f5f",
           "arrowhead": 0,
           "arrowwidth": 1
          },
          "autotypenumbers": "strict",
          "coloraxis": {
           "colorbar": {
            "outlinewidth": 0,
            "ticks": ""
           }
          },
          "colorscale": {
           "diverging": [
            [
             0,
             "#8e0152"
            ],
            [
             0.1,
             "#c51b7d"
            ],
            [
             0.2,
             "#de77ae"
            ],
            [
             0.3,
             "#f1b6da"
            ],
            [
             0.4,
             "#fde0ef"
            ],
            [
             0.5,
             "#f7f7f7"
            ],
            [
             0.6,
             "#e6f5d0"
            ],
            [
             0.7,
             "#b8e186"
            ],
            [
             0.8,
             "#7fbc41"
            ],
            [
             0.9,
             "#4d9221"
            ],
            [
             1,
             "#276419"
            ]
           ],
           "sequential": [
            [
             0,
             "#0d0887"
            ],
            [
             0.1111111111111111,
             "#46039f"
            ],
            [
             0.2222222222222222,
             "#7201a8"
            ],
            [
             0.3333333333333333,
             "#9c179e"
            ],
            [
             0.4444444444444444,
             "#bd3786"
            ],
            [
             0.5555555555555556,
             "#d8576b"
            ],
            [
             0.6666666666666666,
             "#ed7953"
            ],
            [
             0.7777777777777778,
             "#fb9f3a"
            ],
            [
             0.8888888888888888,
             "#fdca26"
            ],
            [
             1,
             "#f0f921"
            ]
           ],
           "sequentialminus": [
            [
             0,
             "#0d0887"
            ],
            [
             0.1111111111111111,
             "#46039f"
            ],
            [
             0.2222222222222222,
             "#7201a8"
            ],
            [
             0.3333333333333333,
             "#9c179e"
            ],
            [
             0.4444444444444444,
             "#bd3786"
            ],
            [
             0.5555555555555556,
             "#d8576b"
            ],
            [
             0.6666666666666666,
             "#ed7953"
            ],
            [
             0.7777777777777778,
             "#fb9f3a"
            ],
            [
             0.8888888888888888,
             "#fdca26"
            ],
            [
             1,
             "#f0f921"
            ]
           ]
          },
          "colorway": [
           "#636efa",
           "#EF553B",
           "#00cc96",
           "#ab63fa",
           "#FFA15A",
           "#19d3f3",
           "#FF6692",
           "#B6E880",
           "#FF97FF",
           "#FECB52"
          ],
          "font": {
           "color": "#2a3f5f"
          },
          "geo": {
           "bgcolor": "white",
           "lakecolor": "white",
           "landcolor": "#E5ECF6",
           "showlakes": true,
           "showland": true,
           "subunitcolor": "white"
          },
          "hoverlabel": {
           "align": "left"
          },
          "hovermode": "closest",
          "mapbox": {
           "style": "light"
          },
          "paper_bgcolor": "white",
          "plot_bgcolor": "#E5ECF6",
          "polar": {
           "angularaxis": {
            "gridcolor": "white",
            "linecolor": "white",
            "ticks": ""
           },
           "bgcolor": "#E5ECF6",
           "radialaxis": {
            "gridcolor": "white",
            "linecolor": "white",
            "ticks": ""
           }
          },
          "scene": {
           "xaxis": {
            "backgroundcolor": "#E5ECF6",
            "gridcolor": "white",
            "gridwidth": 2,
            "linecolor": "white",
            "showbackground": true,
            "ticks": "",
            "zerolinecolor": "white"
           },
           "yaxis": {
            "backgroundcolor": "#E5ECF6",
            "gridcolor": "white",
            "gridwidth": 2,
            "linecolor": "white",
            "showbackground": true,
            "ticks": "",
            "zerolinecolor": "white"
           },
           "zaxis": {
            "backgroundcolor": "#E5ECF6",
            "gridcolor": "white",
            "gridwidth": 2,
            "linecolor": "white",
            "showbackground": true,
            "ticks": "",
            "zerolinecolor": "white"
           }
          },
          "shapedefaults": {
           "line": {
            "color": "#2a3f5f"
           }
          },
          "ternary": {
           "aaxis": {
            "gridcolor": "white",
            "linecolor": "white",
            "ticks": ""
           },
           "baxis": {
            "gridcolor": "white",
            "linecolor": "white",
            "ticks": ""
           },
           "bgcolor": "#E5ECF6",
           "caxis": {
            "gridcolor": "white",
            "linecolor": "white",
            "ticks": ""
           }
          },
          "title": {
           "x": 0.05
          },
          "xaxis": {
           "automargin": true,
           "gridcolor": "white",
           "linecolor": "white",
           "ticks": "",
           "title": {
            "standoff": 15
           },
           "zerolinecolor": "white",
           "zerolinewidth": 2
          },
          "yaxis": {
           "automargin": true,
           "gridcolor": "white",
           "linecolor": "white",
           "ticks": "",
           "title": {
            "standoff": 15
           },
           "zerolinecolor": "white",
           "zerolinewidth": 2
          }
         }
        },
        "title": {
         "text": "Topic Distribution Over Time for the Last 10,000 Machine Learning Papers on ArXiv"
        },
        "xaxis": {
         "anchor": "y",
         "domain": [
          0,
          1
         ],
         "title": {
          "text": "Date"
         }
        },
        "yaxis": {
         "anchor": "x",
         "domain": [
          0,
          1
         ],
         "title": {
          "text": "Frequency"
         }
        }
       }
      }
     },
     "metadata": {},
     "output_type": "display_data"
    }
   ],
   "source": [
    "api = ArxivAPI(\"http://export.arxiv.org/api/query?search_query=cat:cs.LG&start=0&max_results=1000&sortBy=submittedDate&sortOrder=descending\")\n",
    "df = api.fetch_papers()\n",
    "\n",
    "processor = ProcessingData(df)\n",
    "df2 = processor.process()\n",
    "\n",
    "viz = Visualize(df2)\n",
    "viz.plot()\n"
   ]
  }
 ],
 "metadata": {
  "kernelspec": {
   "display_name": "Python 3",
   "language": "python",
   "name": "python3"
  },
  "language_info": {
   "codemirror_mode": {
    "name": "ipython",
    "version": 3
   },
   "file_extension": ".py",
   "mimetype": "text/x-python",
   "name": "python",
   "nbconvert_exporter": "python",
   "pygments_lexer": "ipython3",
   "version": "3.11.4"
  },
  "orig_nbformat": 4
 },
 "nbformat": 4,
 "nbformat_minor": 2
}
